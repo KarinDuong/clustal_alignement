{
 "cells": [
  {
   "cell_type": "code",
   "execution_count": 2,
   "metadata": {},
   "outputs": [
    {
     "name": "stdout",
     "output_type": "stream",
     "text": [
      "Résultat de l'UPGMA: [['Bsu', 'Bst', 'Mlu', 'Lvi', 'Amo']]\n"
     ]
    }
   ],
   "source": [
    "import numpy as np\n",
    "import pandas as pd\n",
    "\n",
    "def upgma(matrix, labels):\n",
    "    # Initialisation\n",
    "    n = len(matrix)\n",
    "    clusters = {i: [labels[i]] for i in range(n)}\n",
    "    distances = matrix.copy()\n",
    "\n",
    "    # Convertir en DataFrame pour une gestion facile des distances\n",
    "    df_distances = pd.DataFrame(distances, index=range(n), columns=range(n))\n",
    "\n",
    "    while len(clusters) > 1:\n",
    "        # Trouver les deux clusters les plus proches\n",
    "        min_dist = np.inf\n",
    "        to_merge = (None, None)\n",
    "        for i in df_distances.index:\n",
    "            for j in df_distances.columns:\n",
    "                if i != j and df_distances.at[i, j] < min_dist:\n",
    "                    min_dist = df_distances.at[i, j]\n",
    "                    to_merge = (i, j)\n",
    "\n",
    "        # Fusionner les deux clusters\n",
    "        i, j = to_merge\n",
    "        new_cluster = clusters[i] + clusters[j]\n",
    "        clusters[i] = new_cluster\n",
    "        del clusters[j]\n",
    "\n",
    "        # Mettre à jour la matrice des distances\n",
    "        for k in df_distances.index:\n",
    "            if k != i and k in df_distances.columns:\n",
    "                dist_i = df_distances.at[i, k]\n",
    "                dist_j = df_distances.at[j, k]\n",
    "                df_distances.at[i, k] = df_distances.at[k, i] = (dist_i + dist_j) / 2\n",
    "\n",
    "        # Supprimer la colonne et la ligne du cluster fusionné\n",
    "        df_distances = df_distances.drop(index=j, columns=j)\n",
    "\n",
    "    # Obtenir le cluster final\n",
    "    return list(clusters.values())\n",
    "\n",
    "# Exemple de matrice de distances et labels\n",
    "labels = ['Bsu', 'Bst', 'Lvi', 'Amo', 'Mlu']\n",
    "data = [\n",
    "    [0, 0.1715, 0.2147, 0.3091, 0.2326],\n",
    "    [0.1715, 0, 0.2991, 0.3399, 0.2058],\n",
    "    [0.2147, 0.2991, 0, 0.2795, 0.3943],\n",
    "    [0.3091, 0.3399, 0.2795, 0, 0.4289],\n",
    "    [0.2326, 0.2058, 0.3943, 0.4289, 0]\n",
    "]\n",
    "\n",
    "matrix = np.array(data)\n",
    "\n",
    "# Test de l'algorithme UPGMA\n",
    "resultat = upgma(matrix, labels)\n",
    "print(\"Résultat de l'UPGMA:\", resultat)\n"
   ]
  },
  {
   "cell_type": "code",
   "execution_count": 3,
   "metadata": {},
   "outputs": [
    {
     "name": "stdout",
     "output_type": "stream",
     "text": [
      "Résultat de l'UPGMA: [['Bsu', 'Bst', 'Mlu', 'Lvi', 'Amo']]\n",
      "Étape de fusion : (0, 1)\n",
      "Distances :\n",
      "        0       1       2       3       4\n",
      "0  0.0000  0.1715  0.2147  0.3091  0.2326\n",
      "1  0.1715  0.0000  0.2991  0.3399  0.2058\n",
      "2  0.2147  0.2991  0.0000  0.2795  0.3943\n",
      "3  0.3091  0.3399  0.2795  0.0000  0.4289\n",
      "4  0.2326  0.2058  0.3943  0.4289  0.0000\n",
      "\n",
      "Étape de fusion : (0, 4)\n",
      "Distances :\n",
      "        0       2       3       4\n",
      "0  0.0000  0.2569  0.3245  0.2192\n",
      "2  0.2569  0.0000  0.2795  0.3943\n",
      "3  0.3245  0.2795  0.0000  0.4289\n",
      "4  0.2192  0.3943  0.4289  0.0000\n",
      "\n",
      "Étape de fusion : (2, 3)\n",
      "Distances :\n",
      "        0       2       3\n",
      "0  0.0000  0.3256  0.3767\n",
      "2  0.3256  0.0000  0.2795\n",
      "3  0.3767  0.2795  0.0000\n",
      "\n",
      "Étape de fusion : (0, 2)\n",
      "Distances :\n",
      "         0        2\n",
      "0  0.00000  0.35115\n",
      "2  0.35115  0.00000\n",
      "\n",
      "Étape de fusion : None\n",
      "Distances :\n",
      "     0\n",
      "0  0.0\n",
      "\n"
     ]
    }
   ],
   "source": [
    "import numpy as np\n",
    "import pandas as pd\n",
    "\n",
    "def upgma(matrix, labels):\n",
    "    # Initialisation\n",
    "    n = len(matrix)\n",
    "    clusters = {i: [labels[i]] for i in range(n)}\n",
    "    distances = matrix.copy()\n",
    "\n",
    "    # Convertir en DataFrame pour une gestion facile des distances\n",
    "    df_distances = pd.DataFrame(distances, index=range(n), columns=range(n))\n",
    "    history = []  # Liste pour sauvegarder les distances de chaque étape\n",
    "\n",
    "    while len(clusters) > 1:\n",
    "        # Trouver les deux clusters les plus proches\n",
    "        min_dist = np.inf\n",
    "        to_merge = (None, None)\n",
    "        for i in df_distances.index:\n",
    "            for j in df_distances.columns:\n",
    "                if i != j and df_distances.at[i, j] < min_dist:\n",
    "                    min_dist = df_distances.at[i, j]\n",
    "                    to_merge = (i, j)\n",
    "\n",
    "        # Sauvegarder les distances des clusters avant fusion\n",
    "        history.append({\n",
    "            'merged_clusters': (to_merge[0], to_merge[1]),\n",
    "            'distances': df_distances.copy()\n",
    "        })\n",
    "\n",
    "        # Fusionner les deux clusters\n",
    "        i, j = to_merge\n",
    "        new_cluster = clusters[i] + clusters[j]\n",
    "        clusters[i] = new_cluster\n",
    "        del clusters[j]\n",
    "\n",
    "        # Mettre à jour la matrice des distances\n",
    "        for k in df_distances.index:\n",
    "            if k != i and k in df_distances.columns:\n",
    "                dist_i = df_distances.at[i, k]\n",
    "                dist_j = df_distances.at[j, k]\n",
    "                df_distances.at[i, k] = df_distances.at[k, i] = (dist_i + dist_j) / 2\n",
    "\n",
    "        # Supprimer la colonne et la ligne du cluster fusionné\n",
    "        df_distances = df_distances.drop(index=j, columns=j)\n",
    "\n",
    "    # Sauvegarder les distances finales\n",
    "    history.append({\n",
    "        'merged_clusters': None,\n",
    "        'distances': df_distances\n",
    "    })\n",
    "\n",
    "    # Obtenir le cluster final\n",
    "    return list(clusters.values()), history\n",
    "\n",
    "# Exemple de matrice de distances et labels\n",
    "labels = ['Bsu', 'Bst', 'Lvi', 'Amo', 'Mlu']\n",
    "data = [\n",
    "    [0, 0.1715, 0.2147, 0.3091, 0.2326],\n",
    "    [0.1715, 0, 0.2991, 0.3399, 0.2058],\n",
    "    [0.2147, 0.2991, 0, 0.2795, 0.3943],\n",
    "    [0.3091, 0.3399, 0.2795, 0, 0.4289],\n",
    "    [0.2326, 0.2058, 0.3943, 0.4289, 0]\n",
    "]\n",
    "\n",
    "matrix = np.array(data)\n",
    "\n",
    "# Test de l'algorithme UPGMA\n",
    "resultat, historique_distances = upgma(matrix, labels)\n",
    "\n",
    "# Afficher le résultat final\n",
    "print(\"Résultat de l'UPGMA:\", resultat)\n",
    "\n",
    "# Afficher l'historique des distances\n",
    "for step in historique_distances:\n",
    "    print(f\"Étape de fusion : {step['merged_clusters']}\")\n",
    "    print(\"Distances :\")\n",
    "    print(step['distances'])\n",
    "    print()\n"
   ]
  },
  {
   "cell_type": "code",
   "execution_count": 6,
   "metadata": {},
   "outputs": [],
   "source": [
    "matrix = pd.read_csv(\"../matrice_dist_UPGMA.csv\", index_col=0)"
   ]
  },
  {
   "cell_type": "code",
   "execution_count": 23,
   "metadata": {},
   "outputs": [
    {
     "name": "stdout",
     "output_type": "stream",
     "text": [
      "     Bsu     Bst     Lvi     Amo     Mlu\n",
      "Bsu  NaN  0.1715  0.2147  0.3091  0.2326\n",
      "Bst  NaN     NaN  0.2991  0.3399  0.2058\n",
      "Lvi  NaN     NaN     NaN  0.2795  0.3943\n",
      "Amo  NaN     NaN     NaN     NaN  0.4289\n",
      "Mlu  NaN     NaN     NaN     NaN     NaN\n"
     ]
    },
    {
     "data": {
      "text/plain": [
       "(np.float64(0.2795), ('Lvi', 'Amo'))"
      ]
     },
     "execution_count": 23,
     "metadata": {},
     "output_type": "execute_result"
    }
   ],
   "source": [
    "def search_min(matrix, col_name=None):\n",
    "    # print(type(matrix.columns[0]))\n",
    "    # print(matrix.columns)\n",
    "    print(matrix)\n",
    "\n",
    "    if col_name != None:\n",
    "        val_min = matrix[col_name].min()\n",
    "        return val_min, (matrix[matrix[col_name]==val_min].index.to_list()[0], col_name)\n",
    "    else:\n",
    "        val_min = matrix.min(skipna=True).min()\n",
    "        return val_min, matrix.stack().idxmin()\n",
    "    \n",
    "search_min(matrix, \"Amo\")"
   ]
  },
  {
   "cell_type": "code",
   "execution_count": 25,
   "metadata": {},
   "outputs": [
    {
     "name": "stdout",
     "output_type": "stream",
     "text": [
      "     Bsu     Bst     Lvi     Amo     Mlu\n",
      "Bsu  NaN  0.1715  0.2147  0.3091  0.2326\n",
      "Bst  NaN     NaN  0.2991  0.3399  0.2058\n",
      "Lvi  NaN     NaN     NaN  0.2795  0.3943\n",
      "Amo  NaN     NaN     NaN     NaN  0.4289\n",
      "Mlu  NaN     NaN     NaN     NaN     NaN\n"
     ]
    }
   ],
   "source": [
    "dist_min, row_col = search_min(matrix)\n"
   ]
  },
  {
   "cell_type": "code",
   "execution_count": 26,
   "metadata": {},
   "outputs": [
    {
     "name": "stdout",
     "output_type": "stream",
     "text": [
      "{('Bsu', 'Bst'): np.float64(0.1715)}\n"
     ]
    }
   ],
   "source": [
    "def fusion_seq(matrix, dict_dist):\n",
    "    # dist_min, row_col = search_min(matrix)\n",
    "    dict_dist[row_col] = dist_min\n",
    "\n",
    "\n",
    "dict_dist = dict()\n",
    "fusion_seq(matrix, dict_dist)\n",
    "print(dict_dist)"
   ]
  },
  {
   "cell_type": "code",
   "execution_count": 123,
   "metadata": {},
   "outputs": [],
   "source": [
    "def calc_dist(matrix, row_col):\n",
    "    name_col_matrix = matrix.columns\n",
    "    new_dist_list = []\n",
    "\n",
    "    # print(\"ici1\")\n",
    "    row, col = row_col\n",
    "    # print(row, col)\n",
    "\n",
    "    matrix = matrix.transpose()\n",
    "    # print(\"ici2\")\n",
    "    for i in name_col_matrix: \n",
    "        if i not in row_col:\n",
    "            print(\"ici3\")\n",
    "            print(matrix)\n",
    "            # print(matrix.loc[row, i])\n",
    "            print(\"col-i \", col, i)\n",
    "            print(\"row-i \", row, i)\n",
    "            print(\"matrix.loc[row, i] \",matrix.loc[row, i])\n",
    "            print(\"matrix.loc[col, i] \",matrix.loc[col, i])\n",
    "            # print(\"matrix.loc[col] \", matrix.loc[col])\n",
    "            distance = (matrix.loc[col, i] + (matrix.loc[row, i]*(len(row_col)-1))) / len(row_col)\n",
    "            print(i, row, col, distance)\n",
    "            new_dist_list.append(distance)\n",
    "            print(\"\\n\")\n",
    "\n",
    "    print(\"ici4\")\n",
    "    matrix = matrix.drop(index=[row, col])\n",
    "    matrix = matrix.drop(columns=[col, row])\n",
    "\n",
    "    print(\"ici5\")\n",
    "    # matrix[str(row_col)] = new_dist_list\n",
    "\n",
    "\n",
    "    matrix.loc[len(matrix)] = [str(row_col)].append(new_dist_list)\n",
    "    matrix[str(row_col)]=[np.nan] * len(matrix)\n",
    "    # print(matrix)\n",
    "    \n",
    "\n",
    "# calc_dist(matrix, row_col)"
   ]
  },
  {
   "cell_type": "code",
   "execution_count": 124,
   "metadata": {},
   "outputs": [
    {
     "name": "stdout",
     "output_type": "stream",
     "text": [
      "            Lvi     Amo     Mlu  (Bst, Bsu)\n",
      "Lvi         NaN  0.2795  0.3943      0.2569\n",
      "Amo         NaN     NaN  0.4289      0.3245\n",
      "Mlu         NaN     NaN     NaN      0.2192\n",
      "(Bst, Bsu)  NaN     NaN     NaN         NaN\n",
      "{('Mlu', '(Bst, Bsu)'): np.float64(0.2192)}\n",
      "ici3\n",
      "               Lvi     Amo     Mlu  (Bst, Bsu)\n",
      "Lvi            NaN     NaN     NaN         NaN\n",
      "Amo         0.2795     NaN     NaN         NaN\n",
      "Mlu         0.3943  0.4289     NaN         NaN\n",
      "(Bst, Bsu)  0.2569  0.3245  0.2192         NaN\n",
      "col-i  (Bst, Bsu) Lvi\n",
      "row-i  Mlu Lvi\n",
      "matrix.loc[row, i]  0.3943\n",
      "matrix.loc[col, i]  0.2569\n",
      "Lvi Mlu (Bst, Bsu) 0.3256\n",
      "\n",
      "\n",
      "ici3\n",
      "               Lvi     Amo     Mlu  (Bst, Bsu)\n",
      "Lvi            NaN     NaN     NaN         NaN\n",
      "Amo         0.2795     NaN     NaN         NaN\n",
      "Mlu         0.3943  0.4289     NaN         NaN\n",
      "(Bst, Bsu)  0.2569  0.3245  0.2192         NaN\n",
      "col-i  (Bst, Bsu) Amo\n",
      "row-i  Mlu Amo\n",
      "matrix.loc[row, i]  0.4289\n",
      "matrix.loc[col, i]  0.3245\n",
      "Amo Mlu (Bst, Bsu) 0.37670000000000003\n",
      "\n",
      "\n",
      "ici4\n",
      "ici5\n"
     ]
    }
   ],
   "source": [
    "matrix2 = pd.read_csv(\"../matrice_test.csv\", index_col=0)\n",
    "\n",
    "dist_min, row_col = search_min(matrix2, \"(Bst, Bsu)\")\n",
    "\n",
    "dict_dist = dict()\n",
    "fusion_seq(matrix2, dict_dist)\n",
    "print(dict_dist)\n",
    "\n",
    "calc_dist(matrix2, row_col)\n",
    "\n",
    "\n",
    "# comprendre comment est fait le calcul de distance + pq j'ai pas les bon résultats"
   ]
  }
 ],
 "metadata": {
  "kernelspec": {
   "display_name": "clustal_env",
   "language": "python",
   "name": "python3"
  },
  "language_info": {
   "codemirror_mode": {
    "name": "ipython",
    "version": 3
   },
   "file_extension": ".py",
   "mimetype": "text/x-python",
   "name": "python",
   "nbconvert_exporter": "python",
   "pygments_lexer": "ipython3",
   "version": "3.12.5"
  }
 },
 "nbformat": 4,
 "nbformat_minor": 2
}
